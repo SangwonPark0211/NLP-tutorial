{
 "cells": [
  {
   "cell_type": "markdown",
   "metadata": {},
   "source": [
    "# **Textrank based on sentence embedding**\n",
    "- extractive summarization\n",
    "- used tennis article data set\n",
    "- used pre-trained embedding(GloVe)"
   ]
  },
  {
   "cell_type": "markdown",
   "metadata": {},
   "source": [
    "## **1. Pre-trained Embedding**\n",
    "- GloVe, FastText, Word2Vec etc.\n",
    "- We use GloVe"
   ]
  },
  {
   "cell_type": "code",
   "execution_count": null,
   "metadata": {},
   "outputs": [],
   "source": [
    "import numpy as np\n",
    "import gensim\n",
    "from urllib.request import urlretrieve, urlopen\n",
    "import gzip\n",
    "import zipfile"
   ]
  }
 ],
 "metadata": {
  "interpreter": {
   "hash": "30274a649c5cdc7c99b850337d57129588e9992e587b6fd9d381ea981b7a9f30"
  },
  "kernelspec": {
   "display_name": "Python 3.6.13 64-bit ('nlp-tutorial': conda)",
   "language": "python",
   "name": "python3"
  },
  "language_info": {
   "name": "python",
   "version": "3.6.13"
  },
  "orig_nbformat": 4
 },
 "nbformat": 4,
 "nbformat_minor": 2
}
